{
 "cells": [
  {
   "cell_type": "code",
   "execution_count": 2,
   "metadata": {},
   "outputs": [],
   "source": [
    "import pandas as pd\n",
    "from sklearn.metrics import mean_squared_error, mean_absolute_error"
   ]
  },
  {
   "cell_type": "code",
   "execution_count": 3,
   "metadata": {},
   "outputs": [],
   "source": [
    "original_df = pd.read_csv('path')  \n",
    "synthetic_df = pd.read_csv('path') \n"
   ]
  },
  {
   "cell_type": "markdown",
   "metadata": {},
   "source": [
    "# **MVAE-EA**"
   ]
  },
  {
   "cell_type": "code",
   "execution_count": 6,
   "metadata": {},
   "outputs": [
    {
     "name": "stdout",
     "output_type": "stream",
     "text": [
      "Accuracy: 0.4461538461538462\n",
      "Precision: 0.375\n",
      "Recall: 0.04285714285714286\n",
      "F1 Score: 0.07692307692307693\n",
      "Privacy Loss (epsilon): 0.00018479879692573364\n"
     ]
    }
   ],
   "source": [
    "# INFERENCE ATTACK MODEL\n",
    "from sklearn.model_selection import train_test_split\n",
    "from sklearn.linear_model import LogisticRegression\n",
    "from sklearn.metrics import accuracy_score, precision_score, recall_score, f1_score\n",
    "import numpy as np\n",
    "\n",
    "# aligning the datasets by matching its indices\n",
    "common_indices = original_df.index.intersection(synthetic_df.index)\n",
    "\n",
    "# filter both datasets to only include common indices\n",
    "aligned_original_df = original_df.loc[common_indices]\n",
    "aligned_synthetic_df = synthetic_df.loc[common_indices]\n",
    "\n",
    "# creating a binary label indicating if the data point is in the training set\n",
    "aligned_original_df['is_training'] = 1  # 1 for real (training) \n",
    "aligned_synthetic_df['is_training'] = 0  # 0 for synthetic (non-training) \n",
    "\n",
    "# combine and shuffle the aligned data\n",
    "combined_df = pd.concat([aligned_original_df, aligned_synthetic_df]).sample(frac=1, random_state=42)\n",
    "\n",
    "# extracting the features and labels\n",
    "X_combined = combined_df['Rating'].values.reshape(-1, 1)  # features from both real and synthetic data\n",
    "y_combined = combined_df['is_training'].values  # target labels (1 if real, 0 if synthetic)\n",
    "\n",
    "# splitting the combined data into training and testing sets\n",
    "X_train, X_test, y_train, y_test = train_test_split(X_combined, y_combined, test_size=0.2, random_state=42)\n",
    "\n",
    "# initialising and training a logreg binary classifier\n",
    "classifier = LogisticRegression()\n",
    "classifier.fit(X_train, y_train)\n",
    "\n",
    "# predicting on the test set\n",
    "y_pred = classifier.predict(X_test)\n",
    "y_pred_proba = classifier.predict_proba(X_test)[:, 1]  # Probability of belonging to the training set\n",
    "\n",
    "# using using classification metrics for evaluation\n",
    "accuracy = accuracy_score(y_test, y_pred)\n",
    "precision = precision_score(y_test, y_pred)\n",
    "recall = recall_score(y_test, y_pred)\n",
    "f1 = f1_score(y_test, y_pred)\n",
    "\n",
    "print(f\"Accuracy: {accuracy}\")\n",
    "print(f\"Precision: {precision}\")\n",
    "print(f\"Recall: {recall}\")\n",
    "print(f\"F1 Score: {f1}\")\n",
    "\n",
    "# calculating the privacy loss (epsilon)\n",
    "train_indices = y_test == 1\n",
    "non_train_indices = y_test == 0\n",
    "\n",
    "epsilon = np.abs(y_pred_proba[train_indices].mean() - y_pred_proba[non_train_indices].mean())\n",
    "print(f\"Privacy Loss (epsilon): {epsilon}\")\n"
   ]
  }
 ],
 "metadata": {
  "kernelspec": {
   "display_name": "TF",
   "language": "python",
   "name": "python3"
  },
  "language_info": {
   "codemirror_mode": {
    "name": "ipython",
    "version": 3
   },
   "file_extension": ".py",
   "mimetype": "text/x-python",
   "name": "python",
   "nbconvert_exporter": "python",
   "pygments_lexer": "ipython3",
   "version": "3.11.9"
  }
 },
 "nbformat": 4,
 "nbformat_minor": 2
}
